{
 "cells": [
  {
   "cell_type": "markdown",
   "metadata": {},
   "source": [
    "# Prepare data for stock study\n",
    "\n",
    "## Data informaiton\n",
    "- Technical.csv: contains stock trading information for every trade-day since 2011-01-04\n",
    "- Fundamental.csv: contains other more general information for each stock and it is quatily level\n"
   ]
  },
  {
   "cell_type": "code",
   "execution_count": 2,
   "metadata": {
    "collapsed": false
   },
   "outputs": [],
   "source": [
    "import pandas as pd\n",
    "import numpy as np\n",
    "\n",
    "technical = pd.read_csv('/Users/jiaqizhang/Documents/innovation_day/stock/data/Technical.csv')\n",
    "technical['transaction_date'] = pd.to_datetime(technical['Tradedate'])\n",
    "technical['ipo_date'] = pd.to_datetime(technical['ipodate'], format=\"%Y/%m/%d\")\n",
    "technical = technical.drop(['Tradedate','ipodate','Unnamed: 13'],1)\n",
    "technical['weekday'] = technical.transaction_date.dt.dayofweek\n",
    "technical['out_date'] = technical.transaction_date + pd.Timedelta('7 days')\n",
    "technical_r = technical.drop(['turn', 'mkt_cap', 'vol', 'adjfactor', 'amount', \n",
    "                              'swing','high', 'low','out_date','ipo_date','weekday'], 1)\n",
    "\n",
    "technical_r = technical_r.rename(columns = {'transaction_date':'out_date'})\n",
    "\n",
    "technical_tag = technical.join(technical_r.set_index(['code', 'out_date']), \n",
    "                               on=['code', 'out_date'], rsuffix='_7d')\n",
    "technical_tag['closed_diff'] = (technical_tag['close'] - technical_tag['close_7d']) / technical_tag['close']\n",
    "\n",
    "tech_key = technical_tag[['code','transaction_date']]\n"
   ]
  },
  {
   "cell_type": "code",
   "execution_count": 4,
   "metadata": {
    "collapsed": true
   },
   "outputs": [],
   "source": [
    "fund = pd.read_csv('/Users/jiaqizhang/Documents/innovation_day/stock/data/Fundamental.csv')\n",
    "fund['issue_date'] = pd.to_datetime(fund['issuedate'])\n",
    "fund = fund.drop(['reportdate', 'issuedate', 'ipodate', 'Unnamed: 61'], 1)\n",
    "fund_key = fund[['code','issue_date']]"
   ]
  },
  {
   "cell_type": "code",
   "execution_count": 5,
   "metadata": {
    "collapsed": false
   },
   "outputs": [],
   "source": [
    "\n",
    "base_key = tech_key.join(fund_key.set_index(['code']), on = 'code')\n",
    "base_key_f = base_key[ base_key.transaction_date > base_key.issue_date ]\n",
    "base_key_m = base_key_f.groupby(['code', 'transaction_date'], as_index=False)['issue_date'].max()\n",
    "\n",
    "base_0 = pd.merge(technical_tag, base_key_m, on=['code', 'transaction_date'], how='left')\n",
    "base = base_0.merge(fund, how='left', on=['code', 'issue_date'], suffixes=('','_f') )\n",
    "\n",
    "\n",
    "\n",
    "\n"
   ]
  },
  {
   "cell_type": "code",
   "execution_count": 11,
   "metadata": {
    "collapsed": false
   },
   "outputs": [],
   "source": [
    "var_list = base.dtypes\n",
    "\n",
    "var_info = pd.DataFrame(var_list)\n",
    "\n",
    "var_info.columns = ['dtype']\n",
    "var_info['var_name'] = var_info.index\n",
    "\n",
    "var_info['type'] = 'variables'\n",
    "\n",
    "meta_variables = ['code', 'transaction_date', 'ipo_date', 'out_date', 'close_7d', 'open_7d', 'closed_diff', 'issue_date']\n",
    "\n",
    "base['days_since_ipo'] = (base['transaction_date'] - base['ipo_date']) / np.timedelta64(1, 'D')\n",
    "\n",
    "base.to_csv('/Users/jiaqizhang/Documents/innovation_day/stock/data/base.csv')\n",
    "\n",
    "\n"
   ]
  },
  {
   "cell_type": "code",
   "execution_count": 13,
   "metadata": {
    "collapsed": true
   },
   "outputs": [],
   "source": [
    "store = pd.HDFStore('/Users/jiaqizhang/Documents/innovation_day/stock/data/base_store.h5')\n",
    "store['base'] = base"
   ]
  },
  {
   "cell_type": "code",
   "execution_count": 14,
   "metadata": {
    "collapsed": true
   },
   "outputs": [],
   "source": [
    "\n",
    "store.close()\n"
   ]
  },
  {
   "cell_type": "code",
   "execution_count": null,
   "metadata": {
    "collapsed": true
   },
   "outputs": [],
   "source": []
  }
 ],
 "metadata": {
  "kernelspec": {
   "display_name": "Python 2",
   "language": "python",
   "name": "python2"
  },
  "language_info": {
   "codemirror_mode": {
    "name": "ipython",
    "version": 2
   },
   "file_extension": ".py",
   "mimetype": "text/x-python",
   "name": "python",
   "nbconvert_exporter": "python",
   "pygments_lexer": "ipython2",
   "version": "2.7.12"
  }
 },
 "nbformat": 4,
 "nbformat_minor": 0
}
