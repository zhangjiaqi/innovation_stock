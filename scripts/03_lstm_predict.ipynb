{
 "cells": [
  {
   "cell_type": "code",
   "execution_count": 30,
   "metadata": {
    "collapsed": true
   },
   "outputs": [],
   "source": [
    "%matplotlib inline\n",
    "import numpy as np\n",
    "import pandas as pd\n",
    "import tensorflow as tf\n",
    "from matplotlib import pyplot as plt\n",
    "\n",
    "from tensorflow.contrib import learn\n",
    "from sklearn.metrics import mean_squared_error, mean_absolute_error\n",
    "from lstm_predictor import generate_data, load_csvdata, lstm_model"
   ]
  },
  {
   "cell_type": "code",
   "execution_count": 31,
   "metadata": {
    "collapsed": true
   },
   "outputs": [],
   "source": [
    "LOG_DIR = './ops_logs'\n",
    "TIMESTEPS = 30\n",
    "RNN_LAYERS = [{'steps': TIMESTEPS}]\n",
    "DENSE_LAYERS = [10, 10]\n",
    "TRAINING_STEPS = 100000\n",
    "BATCH_SIZE = 100\n",
    "PRINT_STEPS = TRAINING_STEPS / 100"
   ]
  },
  {
   "cell_type": "code",
   "execution_count": 32,
   "metadata": {
    "collapsed": false
   },
   "outputs": [
    {
     "data": {
      "text/html": [
       "<div>\n",
       "<table border=\"1\" class=\"dataframe\">\n",
       "  <thead>\n",
       "    <tr style=\"text-align: right;\">\n",
       "      <th></th>\n",
       "      <th>code</th>\n",
       "      <th>close</th>\n",
       "      <th>turn</th>\n",
       "      <th>mkt_cap</th>\n",
       "      <th>open</th>\n",
       "      <th>vol</th>\n",
       "      <th>adjfactor</th>\n",
       "      <th>amount</th>\n",
       "      <th>swing</th>\n",
       "      <th>high</th>\n",
       "      <th>...</th>\n",
       "      <th>lt_borrow</th>\n",
       "      <th>bonds_payable</th>\n",
       "      <th>tot_liab</th>\n",
       "      <th>eqy_belongto_parcomsh</th>\n",
       "      <th>cap_rsrv</th>\n",
       "      <th>surplus_rsrv</th>\n",
       "      <th>undistributed_profit</th>\n",
       "      <th>other_equity_instruments_PRE</th>\n",
       "      <th>tot_liab_shrhldr_eqy</th>\n",
       "      <th>days_since_ipo</th>\n",
       "    </tr>\n",
       "  </thead>\n",
       "  <tbody>\n",
       "    <tr>\n",
       "      <th>0</th>\n",
       "      <td>000001.sz</td>\n",
       "      <td>5.49</td>\n",
       "      <td>1.16</td>\n",
       "      <td>5.582992e+10</td>\n",
       "      <td>5.42</td>\n",
       "      <td>35884061.0</td>\n",
       "      <td>35.91</td>\n",
       "      <td>5.733437e+08</td>\n",
       "      <td>3.36</td>\n",
       "      <td>5.55</td>\n",
       "      <td>...</td>\n",
       "      <td>NaN</td>\n",
       "      <td>NaN</td>\n",
       "      <td>NaN</td>\n",
       "      <td>NaN</td>\n",
       "      <td>NaN</td>\n",
       "      <td>NaN</td>\n",
       "      <td>NaN</td>\n",
       "      <td>NaN</td>\n",
       "      <td>NaN</td>\n",
       "      <td>7216.0</td>\n",
       "    </tr>\n",
       "    <tr>\n",
       "      <th>1</th>\n",
       "      <td>000001.sz</td>\n",
       "      <td>5.46</td>\n",
       "      <td>0.76</td>\n",
       "      <td>5.551627e+10</td>\n",
       "      <td>5.48</td>\n",
       "      <td>23746263.0</td>\n",
       "      <td>35.91</td>\n",
       "      <td>3.798691e+08</td>\n",
       "      <td>1.37</td>\n",
       "      <td>5.53</td>\n",
       "      <td>...</td>\n",
       "      <td>NaN</td>\n",
       "      <td>NaN</td>\n",
       "      <td>NaN</td>\n",
       "      <td>NaN</td>\n",
       "      <td>NaN</td>\n",
       "      <td>NaN</td>\n",
       "      <td>NaN</td>\n",
       "      <td>NaN</td>\n",
       "      <td>NaN</td>\n",
       "      <td>7217.0</td>\n",
       "    </tr>\n",
       "    <tr>\n",
       "      <th>2</th>\n",
       "      <td>000001.sz</td>\n",
       "      <td>5.42</td>\n",
       "      <td>0.67</td>\n",
       "      <td>5.509807e+10</td>\n",
       "      <td>5.46</td>\n",
       "      <td>20653127.0</td>\n",
       "      <td>35.91</td>\n",
       "      <td>3.271489e+08</td>\n",
       "      <td>2.39</td>\n",
       "      <td>5.51</td>\n",
       "      <td>...</td>\n",
       "      <td>NaN</td>\n",
       "      <td>NaN</td>\n",
       "      <td>NaN</td>\n",
       "      <td>NaN</td>\n",
       "      <td>NaN</td>\n",
       "      <td>NaN</td>\n",
       "      <td>NaN</td>\n",
       "      <td>NaN</td>\n",
       "      <td>NaN</td>\n",
       "      <td>7218.0</td>\n",
       "    </tr>\n",
       "    <tr>\n",
       "      <th>3</th>\n",
       "      <td>000001.sz</td>\n",
       "      <td>5.62</td>\n",
       "      <td>2.48</td>\n",
       "      <td>5.718908e+10</td>\n",
       "      <td>5.42</td>\n",
       "      <td>77048221.0</td>\n",
       "      <td>35.91</td>\n",
       "      <td>1.263299e+09</td>\n",
       "      <td>6.83</td>\n",
       "      <td>5.75</td>\n",
       "      <td>...</td>\n",
       "      <td>NaN</td>\n",
       "      <td>NaN</td>\n",
       "      <td>NaN</td>\n",
       "      <td>NaN</td>\n",
       "      <td>NaN</td>\n",
       "      <td>NaN</td>\n",
       "      <td>NaN</td>\n",
       "      <td>NaN</td>\n",
       "      <td>NaN</td>\n",
       "      <td>7219.0</td>\n",
       "    </tr>\n",
       "    <tr>\n",
       "      <th>4</th>\n",
       "      <td>000001.sz</td>\n",
       "      <td>5.48</td>\n",
       "      <td>1.17</td>\n",
       "      <td>5.569052e+10</td>\n",
       "      <td>5.56</td>\n",
       "      <td>36187213.0</td>\n",
       "      <td>35.91</td>\n",
       "      <td>5.841725e+08</td>\n",
       "      <td>3.05</td>\n",
       "      <td>5.62</td>\n",
       "      <td>...</td>\n",
       "      <td>NaN</td>\n",
       "      <td>NaN</td>\n",
       "      <td>NaN</td>\n",
       "      <td>NaN</td>\n",
       "      <td>NaN</td>\n",
       "      <td>NaN</td>\n",
       "      <td>NaN</td>\n",
       "      <td>NaN</td>\n",
       "      <td>NaN</td>\n",
       "      <td>7222.0</td>\n",
       "    </tr>\n",
       "  </tbody>\n",
       "</table>\n",
       "<p>5 rows × 77 columns</p>\n",
       "</div>"
      ],
      "text/plain": [
       "        code  close  turn       mkt_cap  open         vol  adjfactor  \\\n",
       "0  000001.sz   5.49  1.16  5.582992e+10  5.42  35884061.0      35.91   \n",
       "1  000001.sz   5.46  0.76  5.551627e+10  5.48  23746263.0      35.91   \n",
       "2  000001.sz   5.42  0.67  5.509807e+10  5.46  20653127.0      35.91   \n",
       "3  000001.sz   5.62  2.48  5.718908e+10  5.42  77048221.0      35.91   \n",
       "4  000001.sz   5.48  1.17  5.569052e+10  5.56  36187213.0      35.91   \n",
       "\n",
       "         amount  swing  high       ...        lt_borrow  bonds_payable  \\\n",
       "0  5.733437e+08   3.36  5.55       ...              NaN            NaN   \n",
       "1  3.798691e+08   1.37  5.53       ...              NaN            NaN   \n",
       "2  3.271489e+08   2.39  5.51       ...              NaN            NaN   \n",
       "3  1.263299e+09   6.83  5.75       ...              NaN            NaN   \n",
       "4  5.841725e+08   3.05  5.62       ...              NaN            NaN   \n",
       "\n",
       "   tot_liab  eqy_belongto_parcomsh  cap_rsrv  surplus_rsrv  \\\n",
       "0       NaN                    NaN       NaN           NaN   \n",
       "1       NaN                    NaN       NaN           NaN   \n",
       "2       NaN                    NaN       NaN           NaN   \n",
       "3       NaN                    NaN       NaN           NaN   \n",
       "4       NaN                    NaN       NaN           NaN   \n",
       "\n",
       "   undistributed_profit  other_equity_instruments_PRE  tot_liab_shrhldr_eqy  \\\n",
       "0                   NaN                           NaN                   NaN   \n",
       "1                   NaN                           NaN                   NaN   \n",
       "2                   NaN                           NaN                   NaN   \n",
       "3                   NaN                           NaN                   NaN   \n",
       "4                   NaN                           NaN                   NaN   \n",
       "\n",
       "   days_since_ipo  \n",
       "0          7216.0  \n",
       "1          7217.0  \n",
       "2          7218.0  \n",
       "3          7219.0  \n",
       "4          7222.0  \n",
       "\n",
       "[5 rows x 77 columns]"
      ]
     },
     "execution_count": 32,
     "metadata": {},
     "output_type": "execute_result"
    }
   ],
   "source": [
    "store = pd.HDFStore('../data/base_store.h5')\n",
    "base = store['base'] \n",
    "base.head()"
   ]
  },
  {
   "cell_type": "code",
   "execution_count": 33,
   "metadata": {
    "collapsed": false
   },
   "outputs": [],
   "source": [
    "keep_vars = ['code', 'close', 'transaction_date','mkt_cap','open','vol']\n",
    "rnn_base = base[keep_vars]\n",
    "rnn_base = rnn_base[rnn_base.code=='000001.sz']\n",
    "rnn_base = rnn_base[['close', 'mkt_cap','open','vol']]\n",
    "rnn_base = rnn_base[['close']]"
   ]
  },
  {
   "cell_type": "code",
   "execution_count": 34,
   "metadata": {
    "collapsed": false
   },
   "outputs": [
    {
     "data": {
      "text/html": [
       "<div>\n",
       "<table border=\"1\" class=\"dataframe\">\n",
       "  <thead>\n",
       "    <tr style=\"text-align: right;\">\n",
       "      <th></th>\n",
       "      <th>close</th>\n",
       "    </tr>\n",
       "  </thead>\n",
       "  <tbody>\n",
       "    <tr>\n",
       "      <th>0</th>\n",
       "      <td>5.49</td>\n",
       "    </tr>\n",
       "    <tr>\n",
       "      <th>1</th>\n",
       "      <td>5.46</td>\n",
       "    </tr>\n",
       "    <tr>\n",
       "      <th>2</th>\n",
       "      <td>5.42</td>\n",
       "    </tr>\n",
       "    <tr>\n",
       "      <th>3</th>\n",
       "      <td>5.62</td>\n",
       "    </tr>\n",
       "    <tr>\n",
       "      <th>4</th>\n",
       "      <td>5.48</td>\n",
       "    </tr>\n",
       "  </tbody>\n",
       "</table>\n",
       "</div>"
      ],
      "text/plain": [
       "   close\n",
       "0   5.49\n",
       "1   5.46\n",
       "2   5.42\n",
       "3   5.62\n",
       "4   5.48"
      ]
     },
     "execution_count": 34,
     "metadata": {},
     "output_type": "execute_result"
    }
   ],
   "source": [
    "rnn_base.head()"
   ]
  },
  {
   "cell_type": "code",
   "execution_count": 35,
   "metadata": {
    "collapsed": false
   },
   "outputs": [],
   "source": [
    "X, y = load_csvdata(rnn_base, TIMESTEPS, seperate=False)"
   ]
  },
  {
   "cell_type": "code",
   "execution_count": 36,
   "metadata": {
    "collapsed": false
   },
   "outputs": [
    {
     "data": {
      "text/plain": [
       "{'test': array([[ 9.4 ],\n",
       "        [ 9.4 ],\n",
       "        [ 9.38],\n",
       "        [ 9.16],\n",
       "        [ 9.19],\n",
       "        [ 9.06],\n",
       "        [ 9.12],\n",
       "        [ 9.08],\n",
       "        [ 9.08],\n",
       "        [ 9.16],\n",
       "        [ 9.15],\n",
       "        [ 9.04],\n",
       "        [ 9.06],\n",
       "        [ 9.05],\n",
       "        [ 9.06],\n",
       "        [ 9.07],\n",
       "        [ 9.12],\n",
       "        [ 9.15],\n",
       "        [ 9.13],\n",
       "        [ 9.07],\n",
       "        [ 9.09],\n",
       "        [ 9.05],\n",
       "        [ 9.09],\n",
       "        [ 9.08],\n",
       "        [ 9.07],\n",
       "        [ 9.13],\n",
       "        [ 9.24],\n",
       "        [ 9.21],\n",
       "        [ 9.15],\n",
       "        [ 9.16],\n",
       "        [ 9.17],\n",
       "        [ 9.15],\n",
       "        [ 9.14],\n",
       "        [ 9.07],\n",
       "        [ 9.13],\n",
       "        [ 9.11],\n",
       "        [ 9.12],\n",
       "        [ 9.15],\n",
       "        [ 9.07],\n",
       "        [ 9.14],\n",
       "        [ 9.14]]), 'train': array([[ 5.3 ],\n",
       "        [ 5.34],\n",
       "        [ 5.33],\n",
       "        ..., \n",
       "        [ 8.9 ],\n",
       "        [ 8.93],\n",
       "        [ 8.81]]), 'val': array([[ 8.6 ],\n",
       "        [ 8.59],\n",
       "        [ 8.62],\n",
       "        [ 8.63],\n",
       "        [ 8.64],\n",
       "        [ 8.62],\n",
       "        [ 8.48],\n",
       "        [ 8.54],\n",
       "        [ 8.57],\n",
       "        [ 8.57],\n",
       "        [ 8.58],\n",
       "        [ 8.6 ],\n",
       "        [ 8.61],\n",
       "        [ 8.73],\n",
       "        [ 8.66],\n",
       "        [ 8.57],\n",
       "        [ 8.61],\n",
       "        [ 8.63],\n",
       "        [ 8.69],\n",
       "        [ 8.7 ],\n",
       "        [ 8.71],\n",
       "        [ 8.81],\n",
       "        [ 8.81],\n",
       "        [ 8.79],\n",
       "        [ 8.78],\n",
       "        [ 8.74],\n",
       "        [ 8.75],\n",
       "        [ 8.88],\n",
       "        [ 8.99],\n",
       "        [ 8.94],\n",
       "        [ 8.99],\n",
       "        [ 9.04],\n",
       "        [ 8.97],\n",
       "        [ 8.96],\n",
       "        [ 8.99],\n",
       "        [ 8.94],\n",
       "        [ 8.98],\n",
       "        [ 9.11]])}"
      ]
     },
     "execution_count": 36,
     "metadata": {},
     "output_type": "execute_result"
    }
   ],
   "source": [
    "y"
   ]
  },
  {
   "cell_type": "code",
   "execution_count": 37,
   "metadata": {
    "collapsed": false
   },
   "outputs": [
    {
     "name": "stderr",
     "output_type": "stream",
     "text": [
      "INFO:tensorflow:Using temporary folder as model directory: /var/folders/77/jl8t9nkx27q3q1536fj3b87h38zwgl/T/tmp8z5nmpe6\n",
      "INFO:tensorflow:Using temporary folder as model directory: /var/folders/77/jl8t9nkx27q3q1536fj3b87h38zwgl/T/tmp8z5nmpe6\n"
     ]
    }
   ],
   "source": [
    "regressor = learn.TensorFlowEstimator(model_fn=lstm_model(TIMESTEPS, RNN_LAYERS, DENSE_LAYERS), \n",
    "                                      n_classes=0,\n",
    "                                      verbose=1,  \n",
    "                                      steps=TRAINING_STEPS, \n",
    "                                      optimizer='Adagrad',\n",
    "                                      learning_rate=0.03, \n",
    "                                      batch_size=BATCH_SIZE)"
   ]
  },
  {
   "cell_type": "code",
   "execution_count": 38,
   "metadata": {
    "collapsed": false
   },
   "outputs": [],
   "source": [
    "validation_monitor = learn.monitors.ValidationMonitor(X['val'], y['val'],\n",
    "                                                      every_n_steps=PRINT_STEPS,\n",
    "                                                      early_stopping_rounds=1000)"
   ]
  },
  {
   "cell_type": "code",
   "execution_count": 39,
   "metadata": {
    "collapsed": false
   },
   "outputs": [
    {
     "name": "stderr",
     "output_type": "stream",
     "text": [
      "INFO:tensorflow:global_step/sec: 0\n",
      "INFO:tensorflow:global_step/sec: 0\n",
      "INFO:tensorflow:Training steps [0,100000)\n",
      "INFO:tensorflow:Training steps [0,100000)\n",
      "INFO:tensorflow:Step 1: linear_regression/mean_squared_error_regressor/sum_of_squares_loss/value:0 = 46.173\n",
      "INFO:tensorflow:Step 1: linear_regression/mean_squared_error_regressor/sum_of_squares_loss/value:0 = 46.173\n",
      "INFO:tensorflow:training step 100, loss = 0.16749 (0.017 sec/batch).\n",
      "INFO:tensorflow:training step 100, loss = 0.16749 (0.017 sec/batch).\n",
      "INFO:tensorflow:Step 101: linear_regression/mean_squared_error_regressor/sum_of_squares_loss/value:0 = 0.17809\n",
      "INFO:tensorflow:Step 101: linear_regression/mean_squared_error_regressor/sum_of_squares_loss/value:0 = 0.17809\n",
      "INFO:tensorflow:training step 200, loss = 0.16894 (0.016 sec/batch).\n",
      "INFO:tensorflow:training step 200, loss = 0.16894 (0.016 sec/batch).\n",
      "INFO:tensorflow:Step 201: linear_regression/mean_squared_error_regressor/sum_of_squares_loss/value:0 = 0.077431\n",
      "INFO:tensorflow:Step 201: linear_regression/mean_squared_error_regressor/sum_of_squares_loss/value:0 = 0.077431\n",
      "INFO:tensorflow:training step 300, loss = 0.06467 (0.016 sec/batch).\n",
      "INFO:tensorflow:training step 300, loss = 0.06467 (0.016 sec/batch).\n",
      "INFO:tensorflow:Step 301: linear_regression/mean_squared_error_regressor/sum_of_squares_loss/value:0 = 0.0850948\n",
      "INFO:tensorflow:Step 301: linear_regression/mean_squared_error_regressor/sum_of_squares_loss/value:0 = 0.0850948\n",
      "INFO:tensorflow:training step 400, loss = 0.05925 (0.017 sec/batch).\n",
      "INFO:tensorflow:training step 400, loss = 0.05925 (0.017 sec/batch).\n",
      "INFO:tensorflow:Step 401: linear_regression/mean_squared_error_regressor/sum_of_squares_loss/value:0 = 0.0718021\n",
      "INFO:tensorflow:Step 401: linear_regression/mean_squared_error_regressor/sum_of_squares_loss/value:0 = 0.0718021\n",
      "INFO:tensorflow:training step 500, loss = 0.10266 (0.018 sec/batch).\n",
      "INFO:tensorflow:training step 500, loss = 0.10266 (0.018 sec/batch).\n",
      "INFO:tensorflow:Step 501: linear_regression/mean_squared_error_regressor/sum_of_squares_loss/value:0 = 0.0518713\n",
      "INFO:tensorflow:Step 501: linear_regression/mean_squared_error_regressor/sum_of_squares_loss/value:0 = 0.0518713\n",
      "INFO:tensorflow:training step 600, loss = 0.05450 (0.016 sec/batch).\n",
      "INFO:tensorflow:training step 600, loss = 0.05450 (0.016 sec/batch).\n",
      "INFO:tensorflow:Step 601: linear_regression/mean_squared_error_regressor/sum_of_squares_loss/value:0 = 0.0892997\n",
      "INFO:tensorflow:Step 601: linear_regression/mean_squared_error_regressor/sum_of_squares_loss/value:0 = 0.0892997\n",
      "INFO:tensorflow:training step 700, loss = 0.03831 (0.018 sec/batch).\n",
      "INFO:tensorflow:training step 700, loss = 0.03831 (0.018 sec/batch).\n",
      "INFO:tensorflow:Step 701: linear_regression/mean_squared_error_regressor/sum_of_squares_loss/value:0 = 0.0430573\n",
      "INFO:tensorflow:Step 701: linear_regression/mean_squared_error_regressor/sum_of_squares_loss/value:0 = 0.0430573\n",
      "INFO:tensorflow:training step 800, loss = 0.03410 (0.017 sec/batch).\n",
      "INFO:tensorflow:training step 800, loss = 0.03410 (0.017 sec/batch).\n",
      "INFO:tensorflow:Step 801: linear_regression/mean_squared_error_regressor/sum_of_squares_loss/value:0 = 0.0456261\n",
      "INFO:tensorflow:Step 801: linear_regression/mean_squared_error_regressor/sum_of_squares_loss/value:0 = 0.0456261\n",
      "INFO:tensorflow:training step 900, loss = 0.04741 (0.019 sec/batch).\n",
      "INFO:tensorflow:training step 900, loss = 0.04741 (0.019 sec/batch).\n",
      "INFO:tensorflow:Step 901: linear_regression/mean_squared_error_regressor/sum_of_squares_loss/value:0 = 0.0417182\n",
      "INFO:tensorflow:Step 901: linear_regression/mean_squared_error_regressor/sum_of_squares_loss/value:0 = 0.0417182\n",
      "INFO:tensorflow:Restored model from ./ops_logs/model.ckpt-0-?????-of-00001\n",
      "INFO:tensorflow:Restored model from ./ops_logs/model.ckpt-0-?????-of-00001\n",
      "INFO:tensorflow:Eval steps [0,100000) for training step 0.\n",
      "INFO:tensorflow:Eval steps [0,100000) for training step 0.\n",
      "WARNING:tensorflow:Input iterator is exhausted: .\n",
      "WARNING:tensorflow:Input iterator is exhausted: .\n",
      "INFO:tensorflow:Validation (step 1000): loss = 66.1077\n",
      "INFO:tensorflow:Validation (step 1000): loss = 66.1077\n",
      "INFO:tensorflow:training step 1000, loss = 0.05505 (3.069 sec/batch).\n",
      "INFO:tensorflow:training step 1000, loss = 0.05505 (3.069 sec/batch).\n",
      "INFO:tensorflow:Step 1001: linear_regression/mean_squared_error_regressor/sum_of_squares_loss/value:0 = 0.0663745\n",
      "INFO:tensorflow:Step 1001: linear_regression/mean_squared_error_regressor/sum_of_squares_loss/value:0 = 0.0663745\n",
      "INFO:tensorflow:training step 1100, loss = 0.03401 (0.021 sec/batch).\n",
      "INFO:tensorflow:training step 1100, loss = 0.03401 (0.021 sec/batch).\n",
      "INFO:tensorflow:Step 1101: linear_regression/mean_squared_error_regressor/sum_of_squares_loss/value:0 = 0.0263474\n",
      "INFO:tensorflow:Step 1101: linear_regression/mean_squared_error_regressor/sum_of_squares_loss/value:0 = 0.0263474\n",
      "INFO:tensorflow:training step 1200, loss = 0.04031 (0.016 sec/batch).\n",
      "INFO:tensorflow:training step 1200, loss = 0.04031 (0.016 sec/batch).\n",
      "INFO:tensorflow:Step 1201: linear_regression/mean_squared_error_regressor/sum_of_squares_loss/value:0 = 0.0319744\n",
      "INFO:tensorflow:Step 1201: linear_regression/mean_squared_error_regressor/sum_of_squares_loss/value:0 = 0.0319744\n",
      "INFO:tensorflow:training step 1300, loss = 0.05136 (0.016 sec/batch).\n",
      "INFO:tensorflow:training step 1300, loss = 0.05136 (0.016 sec/batch).\n",
      "INFO:tensorflow:Step 1301: linear_regression/mean_squared_error_regressor/sum_of_squares_loss/value:0 = 0.0374645\n",
      "INFO:tensorflow:Step 1301: linear_regression/mean_squared_error_regressor/sum_of_squares_loss/value:0 = 0.0374645\n",
      "INFO:tensorflow:training step 1400, loss = 0.02240 (0.017 sec/batch).\n",
      "INFO:tensorflow:training step 1400, loss = 0.02240 (0.017 sec/batch).\n",
      "INFO:tensorflow:Step 1401: linear_regression/mean_squared_error_regressor/sum_of_squares_loss/value:0 = 0.0299247\n",
      "INFO:tensorflow:Step 1401: linear_regression/mean_squared_error_regressor/sum_of_squares_loss/value:0 = 0.0299247\n",
      "INFO:tensorflow:training step 1500, loss = 0.04034 (0.017 sec/batch).\n",
      "INFO:tensorflow:training step 1500, loss = 0.04034 (0.017 sec/batch).\n",
      "INFO:tensorflow:Step 1501: linear_regression/mean_squared_error_regressor/sum_of_squares_loss/value:0 = 0.059009\n",
      "INFO:tensorflow:Step 1501: linear_regression/mean_squared_error_regressor/sum_of_squares_loss/value:0 = 0.059009\n",
      "INFO:tensorflow:training step 1600, loss = 0.04605 (0.019 sec/batch).\n",
      "INFO:tensorflow:training step 1600, loss = 0.04605 (0.019 sec/batch).\n",
      "INFO:tensorflow:Step 1601: linear_regression/mean_squared_error_regressor/sum_of_squares_loss/value:0 = 0.0291347\n",
      "INFO:tensorflow:Step 1601: linear_regression/mean_squared_error_regressor/sum_of_squares_loss/value:0 = 0.0291347\n",
      "INFO:tensorflow:training step 1700, loss = 0.03621 (0.017 sec/batch).\n",
      "INFO:tensorflow:training step 1700, loss = 0.03621 (0.017 sec/batch).\n",
      "INFO:tensorflow:Step 1701: linear_regression/mean_squared_error_regressor/sum_of_squares_loss/value:0 = 0.0441066\n",
      "INFO:tensorflow:Step 1701: linear_regression/mean_squared_error_regressor/sum_of_squares_loss/value:0 = 0.0441066\n",
      "INFO:tensorflow:training step 1800, loss = 0.02947 (0.017 sec/batch).\n",
      "INFO:tensorflow:training step 1800, loss = 0.02947 (0.017 sec/batch).\n",
      "INFO:tensorflow:Step 1801: linear_regression/mean_squared_error_regressor/sum_of_squares_loss/value:0 = 0.0285835\n",
      "INFO:tensorflow:Step 1801: linear_regression/mean_squared_error_regressor/sum_of_squares_loss/value:0 = 0.0285835\n",
      "INFO:tensorflow:training step 1900, loss = 0.04034 (0.017 sec/batch).\n",
      "INFO:tensorflow:training step 1900, loss = 0.04034 (0.017 sec/batch).\n",
      "INFO:tensorflow:Step 1901: linear_regression/mean_squared_error_regressor/sum_of_squares_loss/value:0 = 0.0343076\n",
      "INFO:tensorflow:Step 1901: linear_regression/mean_squared_error_regressor/sum_of_squares_loss/value:0 = 0.0343076\n",
      "INFO:tensorflow:Restored model from ./ops_logs/model.ckpt-0-?????-of-00001\n",
      "INFO:tensorflow:Restored model from ./ops_logs/model.ckpt-0-?????-of-00001\n",
      "INFO:tensorflow:Eval steps [0,100000) for training step 0.\n",
      "INFO:tensorflow:Eval steps [0,100000) for training step 0.\n",
      "WARNING:tensorflow:Input iterator is exhausted: .\n",
      "WARNING:tensorflow:Input iterator is exhausted: .\n",
      "INFO:tensorflow:Validation (step 2000): loss = 66.1077\n",
      "INFO:tensorflow:Validation (step 2000): loss = 66.1077\n",
      "INFO:tensorflow:Stopping. Best step: 1000 with loss 66.10772705078125.\n",
      "INFO:tensorflow:Stopping. Best step: 1000 with loss 66.10772705078125.\n",
      "INFO:tensorflow:Saving checkpoint for step 2000 to checkpoint: ./ops_logs/model.ckpt.\n",
      "INFO:tensorflow:Saving checkpoint for step 2000 to checkpoint: ./ops_logs/model.ckpt.\n"
     ]
    },
    {
     "data": {
      "text/plain": [
       "TensorFlowEstimator(verbose=1, class_weight=None, batch_size=100, learning_rate=0.03, n_classes=0, continue_training=False, steps=100000, params=None, optimizer=Adagrad, clip_gradients=5.0)"
      ]
     },
     "execution_count": 39,
     "metadata": {},
     "output_type": "execute_result"
    }
   ],
   "source": [
    "regressor.fit(X['train'], y['train'], monitors=[validation_monitor], logdir=LOG_DIR)"
   ]
  },
  {
   "cell_type": "code",
   "execution_count": 40,
   "metadata": {
    "collapsed": false
   },
   "outputs": [
    {
     "name": "stderr",
     "output_type": "stream",
     "text": [
      "INFO:tensorflow:Loading model from checkpoint: ./ops_logs/model.ckpt-2000-?????-of-00001.\n",
      "INFO:tensorflow:Loading model from checkpoint: ./ops_logs/model.ckpt-2000-?????-of-00001.\n"
     ]
    },
    {
     "name": "stdout",
     "output_type": "stream",
     "text": [
      "Error: 0.043817\n"
     ]
    }
   ],
   "source": [
    "predicted = regressor.predict(X['test'])\n",
    "mse = mean_absolute_error(y['test'], predicted)\n",
    "print (\"Error: %f\" % mse)"
   ]
  },
  {
   "cell_type": "code",
   "execution_count": 41,
   "metadata": {
    "collapsed": false
   },
   "outputs": [],
   "source": [
    "# z_p =  list(map(lambda x: x[0] - x[1][4] > 0, zip(predicted, X['test'])))\n",
    "# err_count =[li for li in list(map(lambda x: x[0] == x[1], zip(z_p, z['test']))) if li == True]\n",
    "# len(err_count)\n",
    "# len(err_count)/len(z_p)\n",
    "# err_count = [l1 for l1 in err if l1 == True]\n",
    "# err_count"
   ]
  },
  {
   "cell_type": "code",
   "execution_count": 42,
   "metadata": {
    "collapsed": false
   },
   "outputs": [
    {
     "data": {
      "text/plain": [
       "<matplotlib.legend.Legend at 0x1b3bcec88>"
      ]
     },
     "execution_count": 42,
     "metadata": {},
     "output_type": "execute_result"
    },
    {
     "data": {
      "image/png": "[encoded data removed]",
      "text/plain": [
       "<matplotlib.figure.Figure at 0x1b3b19898>"
      ]
     },
     "metadata": {},
     "output_type": "display_data"
    }
   ],
   "source": [
    "plot_predicted, = plt.plot(predicted, label='predicted')\n",
    "plot_test, = plt.plot(y['test'], label='ground truth')\n",
    "plt.legend(handles=[plot_predicted, plot_test])"
   ]
  },
  {
   "cell_type": "code",
   "execution_count": null,
   "metadata": {
    "collapsed": true
   },
   "outputs": [],
   "source": []
  }
 ],
 "metadata": {
  "anaconda-cloud": {},
  "kernelspec": {
   "display_name": "Python [conda env:tensorflow]",
   "language": "python",
   "name": "conda-env-tensorflow-py"
  },
  "language_info": {
   "codemirror_mode": {
    "name": "ipython",
    "version": 3
   },
   "file_extension": ".py",
   "mimetype": "text/x-python",
   "name": "python",
   "nbconvert_exporter": "python",
   "pygments_lexer": "ipython3",
   "version": "3.5.2"
  }
 },
 "nbformat": 4,
 "nbformat_minor": 1
}
