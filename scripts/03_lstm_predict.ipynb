{
 "cells": [
  {
   "cell_type": "code",
   "execution_count": 1,
   "metadata": {
    "collapsed": false
   },
   "outputs": [
    {
     "ename": "ImportError",
     "evalue": "No module named tensorflow",
     "output_type": "error",
     "traceback": [
      "\u001b[0;31m---------------------------------------------------------------------------\u001b[0m",
      "\u001b[0;31mImportError\u001b[0m                               Traceback (most recent call last)",
      "\u001b[0;32m<ipython-input-1-d495bc34dbc2>\u001b[0m in \u001b[0;36m<module>\u001b[0;34m()\u001b[0m\n\u001b[1;32m      2\u001b[0m \u001b[0;32mimport\u001b[0m \u001b[0mnumpy\u001b[0m \u001b[0;32mas\u001b[0m \u001b[0mnp\u001b[0m\u001b[0;34m\u001b[0m\u001b[0m\n\u001b[1;32m      3\u001b[0m \u001b[0;32mimport\u001b[0m \u001b[0mpandas\u001b[0m \u001b[0;32mas\u001b[0m \u001b[0mpd\u001b[0m\u001b[0;34m\u001b[0m\u001b[0m\n\u001b[0;32m----> 4\u001b[0;31m \u001b[0;32mimport\u001b[0m \u001b[0mtensorflow\u001b[0m \u001b[0;32mas\u001b[0m \u001b[0mtf\u001b[0m\u001b[0;34m\u001b[0m\u001b[0m\n\u001b[0m\u001b[1;32m      5\u001b[0m \u001b[0;32mfrom\u001b[0m \u001b[0mmatplotlib\u001b[0m \u001b[0;32mimport\u001b[0m \u001b[0mpyplot\u001b[0m \u001b[0;32mas\u001b[0m \u001b[0mplt\u001b[0m\u001b[0;34m\u001b[0m\u001b[0m\n\u001b[1;32m      6\u001b[0m \u001b[0;34m\u001b[0m\u001b[0m\n",
      "\u001b[0;31mImportError\u001b[0m: No module named tensorflow"
     ]
    }
   ],
   "source": [
    "%matplotlib inline\n",
    "import numpy as np\n",
    "import pandas as pd\n",
    "import tensorflow as tf\n",
    "from matplotlib import pyplot as plt\n",
    "\n",
    "from tensorflow.contrib import learn\n",
    "from sklearn.metrics import mean_squared_error, mean_absolute_error\n",
    "from lstm_predictor import generate_data, load_csvdata, lstm_model"
   ]
  },
  {
   "cell_type": "code",
   "execution_count": 4,
   "metadata": {
    "collapsed": true
   },
   "outputs": [],
   "source": [
    "LOG_DIR = './ops_logs'\n",
    "TIMESTEPS = 5\n",
    "RNN_LAYERS = [{'steps': TIMESTEPS}]\n",
    "DENSE_LAYERS = [10, 10]\n",
    "TRAINING_STEPS = 100000\n",
    "BATCH_SIZE = 100\n",
    "PRINT_STEPS = TRAINING_STEPS / 100"
   ]
  },
  {
   "cell_type": "code",
   "execution_count": 2,
   "metadata": {
    "collapsed": true
   },
   "outputs": [],
   "source": [
    "store = pd.HDFStore('../data/base_store.h5')\n",
    "base = store['base'] "
   ]
  },
  {
   "cell_type": "code",
   "execution_count": 8,
   "metadata": {
    "collapsed": false
   },
   "outputs": [],
   "source": [
    "keep_vars = ['code', 'swing','turn','vol','amount','low','high','open','close','mkt_cap']\n",
    "rnn_base = base[keep_vars]\n",
    "rnn_base = rnn_base[rnn_base.code=='000001.sz']\n",
    "rnn_base = rnn_base.close"
   ]
  },
  {
   "cell_type": "code",
   "execution_count": 9,
   "metadata": {
    "collapsed": false
   },
   "outputs": [],
   "source": [
    "X, y = load_csvdata(rnn_base, TIMESTEPS, seperate=False)"
   ]
  },
  {
   "cell_type": "code",
   "execution_count": 12,
   "metadata": {
    "collapsed": false
   },
   "outputs": [
    {
     "name": "stderr",
     "output_type": "stream",
     "text": [
      "INFO:tensorflow:Using temporary folder as model directory: /var/folders/77/jl8t9nkx27q3q1536fj3b87h38zwgl/T/tmpf3ovf1ep\n",
      "INFO:tensorflow:Using temporary folder as model directory: /var/folders/77/jl8t9nkx27q3q1536fj3b87h38zwgl/T/tmpf3ovf1ep\n"
     ]
    }
   ],
   "source": [
    "regressor = learn.TensorFlowEstimator(model_fn=lstm_model(TIMESTEPS, RNN_LAYERS, DENSE_LAYERS), \n",
    "                                      n_classes=0,\n",
    "                                      verbose=1,  \n",
    "                                      steps=TRAINING_STEPS, \n",
    "                                      optimizer='Adagrad',\n",
    "                                      learning_rate=0.03, \n",
    "                                      batch_size=BATCH_SIZE)"
   ]
  },
  {
   "cell_type": "code",
   "execution_count": 13,
   "metadata": {
    "collapsed": false
   },
   "outputs": [],
   "source": [
    "validation_monitor = learn.monitors.ValidationMonitor(X['val'], y['val'],\n",
    "                                                      every_n_steps=PRINT_STEPS,\n",
    "                                                      early_stopping_rounds=1000)"
   ]
  },
  {
   "cell_type": "code",
   "execution_count": 14,
   "metadata": {
    "collapsed": false
   },
   "outputs": [
    {
     "name": "stderr",
     "output_type": "stream",
     "text": [
      "INFO:tensorflow:global_step/sec: 0\n",
      "INFO:tensorflow:global_step/sec: 0\n",
      "INFO:tensorflow:Training steps [0,100000)\n",
      "INFO:tensorflow:Training steps [0,100000)\n",
      "INFO:tensorflow:Step 1: linear_regression/mean_squared_error_regressor/sum_of_squares_loss/value:0 = 74.5286\n",
      "INFO:tensorflow:Step 1: linear_regression/mean_squared_error_regressor/sum_of_squares_loss/value:0 = 74.5286\n",
      "INFO:tensorflow:training step 100, loss = 0.40366 (0.002 sec/batch).\n",
      "INFO:tensorflow:training step 100, loss = 0.40366 (0.002 sec/batch).\n",
      "INFO:tensorflow:Step 101: linear_regression/mean_squared_error_regressor/sum_of_squares_loss/value:0 = 0.563186\n",
      "INFO:tensorflow:Step 101: linear_regression/mean_squared_error_regressor/sum_of_squares_loss/value:0 = 0.563186\n",
      "INFO:tensorflow:training step 200, loss = 0.09729 (0.002 sec/batch).\n",
      "INFO:tensorflow:training step 200, loss = 0.09729 (0.002 sec/batch).\n",
      "INFO:tensorflow:Step 201: linear_regression/mean_squared_error_regressor/sum_of_squares_loss/value:0 = 0.128257\n",
      "INFO:tensorflow:Step 201: linear_regression/mean_squared_error_regressor/sum_of_squares_loss/value:0 = 0.128257\n",
      "INFO:tensorflow:training step 300, loss = 0.08515 (0.003 sec/batch).\n",
      "INFO:tensorflow:training step 300, loss = 0.08515 (0.003 sec/batch).\n",
      "INFO:tensorflow:Step 301: linear_regression/mean_squared_error_regressor/sum_of_squares_loss/value:0 = 0.0784777\n",
      "INFO:tensorflow:Step 301: linear_regression/mean_squared_error_regressor/sum_of_squares_loss/value:0 = 0.0784777\n",
      "INFO:tensorflow:training step 400, loss = 0.09066 (0.003 sec/batch).\n",
      "INFO:tensorflow:training step 400, loss = 0.09066 (0.003 sec/batch).\n",
      "INFO:tensorflow:Step 401: linear_regression/mean_squared_error_regressor/sum_of_squares_loss/value:0 = 0.0761647\n",
      "INFO:tensorflow:Step 401: linear_regression/mean_squared_error_regressor/sum_of_squares_loss/value:0 = 0.0761647\n",
      "INFO:tensorflow:training step 500, loss = 0.07454 (0.003 sec/batch).\n",
      "INFO:tensorflow:training step 500, loss = 0.07454 (0.003 sec/batch).\n",
      "INFO:tensorflow:Step 501: linear_regression/mean_squared_error_regressor/sum_of_squares_loss/value:0 = 0.101174\n",
      "INFO:tensorflow:Step 501: linear_regression/mean_squared_error_regressor/sum_of_squares_loss/value:0 = 0.101174\n",
      "INFO:tensorflow:training step 600, loss = 0.08745 (0.002 sec/batch).\n",
      "INFO:tensorflow:training step 600, loss = 0.08745 (0.002 sec/batch).\n",
      "INFO:tensorflow:Step 601: linear_regression/mean_squared_error_regressor/sum_of_squares_loss/value:0 = 0.0461896\n",
      "INFO:tensorflow:Step 601: linear_regression/mean_squared_error_regressor/sum_of_squares_loss/value:0 = 0.0461896\n",
      "INFO:tensorflow:training step 700, loss = 0.06108 (0.003 sec/batch).\n",
      "INFO:tensorflow:training step 700, loss = 0.06108 (0.003 sec/batch).\n",
      "INFO:tensorflow:Step 701: linear_regression/mean_squared_error_regressor/sum_of_squares_loss/value:0 = 0.067802\n",
      "INFO:tensorflow:Step 701: linear_regression/mean_squared_error_regressor/sum_of_squares_loss/value:0 = 0.067802\n",
      "INFO:tensorflow:training step 800, loss = 0.03403 (0.002 sec/batch).\n",
      "INFO:tensorflow:training step 800, loss = 0.03403 (0.002 sec/batch).\n",
      "INFO:tensorflow:Step 801: linear_regression/mean_squared_error_regressor/sum_of_squares_loss/value:0 = 0.0754789\n",
      "INFO:tensorflow:Step 801: linear_regression/mean_squared_error_regressor/sum_of_squares_loss/value:0 = 0.0754789\n",
      "INFO:tensorflow:training step 900, loss = 0.05522 (0.002 sec/batch).\n",
      "INFO:tensorflow:training step 900, loss = 0.05522 (0.002 sec/batch).\n",
      "INFO:tensorflow:Step 901: linear_regression/mean_squared_error_regressor/sum_of_squares_loss/value:0 = 0.0336544\n",
      "INFO:tensorflow:Step 901: linear_regression/mean_squared_error_regressor/sum_of_squares_loss/value:0 = 0.0336544\n",
      "INFO:tensorflow:Restored model from ./ops_logs/model.ckpt-0-?????-of-00001\n",
      "INFO:tensorflow:Restored model from ./ops_logs/model.ckpt-0-?????-of-00001\n",
      "INFO:tensorflow:Eval steps [0,100000) for training step 0.\n",
      "INFO:tensorflow:Eval steps [0,100000) for training step 0.\n",
      "WARNING:tensorflow:Input iterator is exhausted: .\n",
      "WARNING:tensorflow:Input iterator is exhausted: .\n",
      "INFO:tensorflow:Validation (step 1000): loss = 92.4767\n",
      "INFO:tensorflow:Validation (step 1000): loss = 92.4767\n",
      "INFO:tensorflow:training step 1000, loss = 0.04426 (0.991 sec/batch).\n",
      "INFO:tensorflow:training step 1000, loss = 0.04426 (0.991 sec/batch).\n",
      "INFO:tensorflow:Step 1001: linear_regression/mean_squared_error_regressor/sum_of_squares_loss/value:0 = 0.0368095\n",
      "INFO:tensorflow:Step 1001: linear_regression/mean_squared_error_regressor/sum_of_squares_loss/value:0 = 0.0368095\n",
      "INFO:tensorflow:training step 1100, loss = 0.02467 (0.003 sec/batch).\n",
      "INFO:tensorflow:training step 1100, loss = 0.02467 (0.003 sec/batch).\n",
      "INFO:tensorflow:Step 1101: linear_regression/mean_squared_error_regressor/sum_of_squares_loss/value:0 = 0.059017\n",
      "INFO:tensorflow:Step 1101: linear_regression/mean_squared_error_regressor/sum_of_squares_loss/value:0 = 0.059017\n",
      "INFO:tensorflow:training step 1200, loss = 0.05774 (0.002 sec/batch).\n",
      "INFO:tensorflow:training step 1200, loss = 0.05774 (0.002 sec/batch).\n",
      "INFO:tensorflow:Step 1201: linear_regression/mean_squared_error_regressor/sum_of_squares_loss/value:0 = 0.0392145\n",
      "INFO:tensorflow:Step 1201: linear_regression/mean_squared_error_regressor/sum_of_squares_loss/value:0 = 0.0392145\n",
      "INFO:tensorflow:training step 1300, loss = 0.04035 (0.002 sec/batch).\n",
      "INFO:tensorflow:training step 1300, loss = 0.04035 (0.002 sec/batch).\n",
      "INFO:tensorflow:Step 1301: linear_regression/mean_squared_error_regressor/sum_of_squares_loss/value:0 = 0.0700289\n",
      "INFO:tensorflow:Step 1301: linear_regression/mean_squared_error_regressor/sum_of_squares_loss/value:0 = 0.0700289\n",
      "INFO:tensorflow:training step 1400, loss = 0.03250 (0.003 sec/batch).\n",
      "INFO:tensorflow:training step 1400, loss = 0.03250 (0.003 sec/batch).\n",
      "INFO:tensorflow:Step 1401: linear_regression/mean_squared_error_regressor/sum_of_squares_loss/value:0 = 0.0409017\n",
      "INFO:tensorflow:Step 1401: linear_regression/mean_squared_error_regressor/sum_of_squares_loss/value:0 = 0.0409017\n",
      "INFO:tensorflow:training step 1500, loss = 0.04376 (0.003 sec/batch).\n",
      "INFO:tensorflow:training step 1500, loss = 0.04376 (0.003 sec/batch).\n",
      "INFO:tensorflow:Step 1501: linear_regression/mean_squared_error_regressor/sum_of_squares_loss/value:0 = 0.0442518\n",
      "INFO:tensorflow:Step 1501: linear_regression/mean_squared_error_regressor/sum_of_squares_loss/value:0 = 0.0442518\n",
      "INFO:tensorflow:training step 1600, loss = 0.03557 (0.002 sec/batch).\n",
      "INFO:tensorflow:training step 1600, loss = 0.03557 (0.002 sec/batch).\n",
      "INFO:tensorflow:Step 1601: linear_regression/mean_squared_error_regressor/sum_of_squares_loss/value:0 = 0.0216003\n",
      "INFO:tensorflow:Step 1601: linear_regression/mean_squared_error_regressor/sum_of_squares_loss/value:0 = 0.0216003\n",
      "INFO:tensorflow:training step 1700, loss = 0.03516 (0.003 sec/batch).\n",
      "INFO:tensorflow:training step 1700, loss = 0.03516 (0.003 sec/batch).\n",
      "INFO:tensorflow:Step 1701: linear_regression/mean_squared_error_regressor/sum_of_squares_loss/value:0 = 0.052828\n",
      "INFO:tensorflow:Step 1701: linear_regression/mean_squared_error_regressor/sum_of_squares_loss/value:0 = 0.052828\n",
      "INFO:tensorflow:training step 1800, loss = 0.05432 (0.003 sec/batch).\n",
      "INFO:tensorflow:training step 1800, loss = 0.05432 (0.003 sec/batch).\n",
      "INFO:tensorflow:Step 1801: linear_regression/mean_squared_error_regressor/sum_of_squares_loss/value:0 = 0.0372654\n",
      "INFO:tensorflow:Step 1801: linear_regression/mean_squared_error_regressor/sum_of_squares_loss/value:0 = 0.0372654\n",
      "INFO:tensorflow:training step 1900, loss = 0.03472 (0.003 sec/batch).\n",
      "INFO:tensorflow:training step 1900, loss = 0.03472 (0.003 sec/batch).\n",
      "INFO:tensorflow:Step 1901: linear_regression/mean_squared_error_regressor/sum_of_squares_loss/value:0 = 0.0334822\n",
      "INFO:tensorflow:Step 1901: linear_regression/mean_squared_error_regressor/sum_of_squares_loss/value:0 = 0.0334822\n",
      "INFO:tensorflow:Restored model from ./ops_logs/model.ckpt-0-?????-of-00001\n",
      "INFO:tensorflow:Restored model from ./ops_logs/model.ckpt-0-?????-of-00001\n",
      "INFO:tensorflow:Eval steps [0,100000) for training step 0.\n",
      "INFO:tensorflow:Eval steps [0,100000) for training step 0.\n",
      "WARNING:tensorflow:Input iterator is exhausted: .\n",
      "WARNING:tensorflow:Input iterator is exhausted: .\n",
      "INFO:tensorflow:Validation (step 2000): loss = 92.4767\n",
      "INFO:tensorflow:Validation (step 2000): loss = 92.4767\n",
      "INFO:tensorflow:Stopping. Best step: 1000 with loss 92.4766616821289.\n",
      "INFO:tensorflow:Stopping. Best step: 1000 with loss 92.4766616821289.\n",
      "INFO:tensorflow:Saving checkpoint for step 2000 to checkpoint: ./ops_logs/model.ckpt.\n",
      "INFO:tensorflow:Saving checkpoint for step 2000 to checkpoint: ./ops_logs/model.ckpt.\n"
     ]
    },
    {
     "data": {
      "text/plain": [
       "TensorFlowEstimator(continue_training=False, clip_gradients=5.0, n_classes=0, verbose=1, class_weight=None, steps=100000, optimizer=Adagrad, learning_rate=0.03, batch_size=100, params=None)"
      ]
     },
     "execution_count": 14,
     "metadata": {},
     "output_type": "execute_result"
    }
   ],
   "source": [
    "regressor.fit(X['train'], y['train'], monitors=[validation_monitor], logdir=LOG_DIR)"
   ]
  },
  {
   "cell_type": "code",
   "execution_count": 15,
   "metadata": {
    "collapsed": false
   },
   "outputs": [
    {
     "name": "stderr",
     "output_type": "stream",
     "text": [
      "INFO:tensorflow:Loading model from checkpoint: ./ops_logs/model.ckpt-2000-?????-of-00001.\n",
      "INFO:tensorflow:Loading model from checkpoint: ./ops_logs/model.ckpt-2000-?????-of-00001.\n"
     ]
    },
    {
     "name": "stdout",
     "output_type": "stream",
     "text": [
      "Error: 0.055976\n"
     ]
    }
   ],
   "source": [
    "predicted = regressor.predict(X['test'])\n",
    "mse = mean_absolute_error(y['test'], predicted)\n",
    "print (\"Error: %f\" % mse)"
   ]
  },
  {
   "cell_type": "code",
   "execution_count": 16,
   "metadata": {
    "collapsed": false
   },
   "outputs": [
    {
     "data": {
      "text/plain": [
       "<matplotlib.legend.Legend at 0x11a1d1a20>"
      ]
     },
     "execution_count": 16,
     "metadata": {},
     "output_type": "execute_result"
    },
    {
     "data": {
      "image/png": "[encoded data removed]",
      "text/plain": [
       "<matplotlib.figure.Figure at 0x11f3cc5c0>"
      ]
     },
     "metadata": {},
     "output_type": "display_data"
    }
   ],
   "source": [
    "plot_predicted, = plt.plot(predicted, label='predicted')\n",
    "plot_test, = plt.plot(y['test'], label='test')\n",
    "plt.legend(handles=[plot_predicted, plot_test])"
   ]
  },
  {
   "cell_type": "code",
   "execution_count": null,
   "metadata": {
    "collapsed": true
   },
   "outputs": [],
   "source": []
  }
 ],
 "metadata": {
  "kernelspec": {
   "display_name": "Python 2",
   "language": "python",
   "name": "python2"
  },
  "language_info": {
   "codemirror_mode": {
    "name": "ipython",
    "version": 2
   },
   "file_extension": ".py",
   "mimetype": "text/x-python",
   "name": "python",
   "nbconvert_exporter": "python",
   "pygments_lexer": "ipython2",
   "version": "2.7.12"
  }
 },
 "nbformat": 4,
 "nbformat_minor": 1
}
